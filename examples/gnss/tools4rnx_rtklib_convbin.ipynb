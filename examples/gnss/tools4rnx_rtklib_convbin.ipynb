{
 "cells": [
  {
   "cell_type": "markdown",
   "metadata": {},
   "source": [
    "# Example code for RtkLibConvbin of tools4rnx module"
   ]
  },
  {
   "cell_type": "code",
   "execution_count": 1,
   "metadata": {},
   "outputs": [],
   "source": [
    "# Remove # if you use Google Colab\n",
    "# !git clone https://github.com/DanielMamaev/MonCenterLib.git\n",
    "# !sudo apt install automake gfortran -y\n",
    "# !cd MonCenterLib && pip install .\n",
    "# !cd MonCenterLib && python3 -m unittest discover"
   ]
  },
  {
   "cell_type": "code",
   "execution_count": 2,
   "metadata": {},
   "outputs": [],
   "source": [
    "from moncenterlib.gnss.tools4rnx import RtkLibConvbin\n",
    "\n",
    "\n",
    "t4r = RtkLibConvbin()\n",
    "\n",
    "path_to_dir = \"/some_dir\"\n",
    "path_to_file = \"/some_file.log\"\n",
    "output_path_to_dir = \"/some_output_dir\""
   ]
  },
  {
   "cell_type": "markdown",
   "metadata": {},
   "source": [
    "#### Scanning directory without recursion search"
   ]
  },
  {
   "cell_type": "code",
   "execution_count": null,
   "metadata": {},
   "outputs": [],
   "source": [
    "res = t4r.scan_dir(path_to_dir, recursion=False)\n",
    "res"
   ]
  },
  {
   "cell_type": "markdown",
   "metadata": {},
   "source": [
    "#### Scanning directory with recursion search"
   ]
  },
  {
   "cell_type": "code",
   "execution_count": null,
   "metadata": {},
   "outputs": [],
   "source": [
    "res = t4r.scan_dir(path_to_dir, recursion=True)\n",
    "res"
   ]
  },
  {
   "cell_type": "markdown",
   "metadata": {},
   "source": [
    "#### Get base configuration"
   ]
  },
  {
   "cell_type": "code",
   "execution_count": null,
   "metadata": {},
   "outputs": [],
   "source": [
    "config = t4r.get_default_config()\n",
    "config"
   ]
  },
  {
   "cell_type": "markdown",
   "metadata": {},
   "source": [
    "#### Description configuration\n",
    "\n",
    "- 'format': log format type;\n",
    "    + rtcm2= RTCM 2\n",
    "    + rtcm3= RTCM 3\n",
    "    + nov  = NovAtel OEM/4/V/6/7,OEMStar\n",
    "    + oem3 = NovAtel OEM3\n",
    "    + ubx  = ublox LEA-4T/5T/6T/7T/M8T/F9\n",
    "    + ss2  = NovAtel Superstar II\n",
    "    + hemis= Hemisphere Eclipse/Crescent\n",
    "    + stq  = SkyTraq S1315F\n",
    "    + javad= Javad GREIS\n",
    "    + nvs  = NVS NV08C BINR\n",
    "    + binex= BINEX\n",
    "    + rt17 = Trimble RT17\n",
    "    + sbf  = Septentrio SBF\n",
    "    + rinex= RINEX\n",
    "- 'rinex_v': rinex version;\n",
    "    + \"3.04\", \"3.03\", \"3.02\", \"3.01\", \"3.00\", \"2.12\", \"2.11\", \"2.10\"\n",
    "\n",
    "- 'start_time': start time y/m/d h:m:s. For example: 2023/12/31 05:06:15;\n",
    "\n",
    "- 'end_time': end time y/m/d h:m:s. For example: 2023/12/31 05:06:15;\n",
    "- 'interval': observation data interval (). For example: 30;\n",
    "- 'freq': number of frequencies. 1:L1 + 2:L2 + 4:L3 + 8:L4 + 16:L5. Default 5 -> (1 + 4) -> L1+L3;\n",
    "- 'system': Include satellite system. For example: G,R,E;\n",
    "- 'output_o': output RINEX OBS file. 0 or 1 -> off or on;\n",
    "- 'output_n': output RINEX NAV file. 0 or 1 -> off or on;\n",
    "- 'output_g': output RINEX GNAV file. 0 or 1 -> off or on;\n",
    "- 'output_h': output RINEX HNAV file. 0 or 1 -> off or on;\n",
    "- 'output_q': output RINEX QNAV file. 0 or 1 -> off or on;\n",
    "- 'output_l': output RINEX LNAV file. 0 or 1 -> off or on;\n",
    "- 'output_b': output RINEX CNAV file. 0 or 1 -> off or on;\n",
    "- 'output_i': output RINEX INAV file. 0 or 1 -> off or on;\n",
    "- 'output_s': output RINEX SBAS file. 0 or 1 -> off or on;\n",
    "- 'other_od': include doppler frequency in rinex obs. 0 or 1 -> off or on;\n",
    "- 'other_os': include snr in rinex obs. 0 or 1 -> off or on;\n",
    "- 'other_oi': include iono correction in rinex nav header. 0 or 1 -> off or on;\n",
    "- 'other_ot': include time correction in rinex nav header. 0 or 1 -> off or on;\n",
    "- 'other_ol': include leap seconds in rinex nav header. 0 or 1 -> off or on;\n",
    "- 'other_halfc': half-cycle ambiguity correction. 0 or 1 -> off or on;\n",
    "- 'comment': something,\n",
    "- 'marker_name': something,\n",
    "- 'marker_number': something,\n",
    "- 'marker_type': something,\n",
    "- 'about_name': something,\n",
    "- 'about_agency': something,\n",
    "- 'receiver_number': something,\n",
    "- 'receiver_type': something,\n",
    "- 'receiver_version': something,\n",
    "- 'antenna_number': something,\n",
    "- 'antenna_type': something,\n",
    "- 'approx_position_x': number,\n",
    "- 'approx_position_y': number,\n",
    "- 'approx_position_z': number,\n",
    "- 'antenna_delta_h': number,\n",
    "- 'antenna_delta_e': number,\n",
    "- 'antenna_delta_n': number"
   ]
  },
  {
   "cell_type": "markdown",
   "metadata": {},
   "source": [
    "#### Edit configuration"
   ]
  },
  {
   "cell_type": "code",
   "execution_count": null,
   "metadata": {},
   "outputs": [],
   "source": [
    "# Every value of key must be str type\n",
    "config[\"format\"] = \"ubx\"\n",
    "config[\"marker_name\"] = \"NSK1\"\n",
    "config"
   ]
  },
  {
   "cell_type": "markdown",
   "metadata": {},
   "source": [
    "#### Start converting"
   ]
  },
  {
   "cell_type": "code",
   "execution_count": 29,
   "metadata": {},
   "outputs": [],
   "source": [
    "config = t4r.get_default_config()\n",
    "# edit config for yourself"
   ]
  },
  {
   "cell_type": "markdown",
   "metadata": {},
   "source": [
    "##### Input path to file"
   ]
  },
  {
   "cell_type": "code",
   "execution_count": null,
   "metadata": {},
   "outputs": [],
   "source": [
    "res = t4r.start(path_to_file, output_path_to_dir, config, False, True)\n",
    "res"
   ]
  },
  {
   "cell_type": "markdown",
   "metadata": {},
   "source": [
    "##### Input path to dir"
   ]
  },
  {
   "cell_type": "code",
   "execution_count": null,
   "metadata": {},
   "outputs": [],
   "source": [
    "res = t4r.start(path_to_dir, output_path_to_dir, config, False, True)\n",
    "res"
   ]
  },
  {
   "cell_type": "markdown",
   "metadata": {},
   "source": [
    "##### Input list_files"
   ]
  },
  {
   "cell_type": "code",
   "execution_count": null,
   "metadata": {},
   "outputs": [],
   "source": [
    "list_files = t4r.scan_dir(path_to_dir, recursion=True)\n",
    "# list_files = [\"path_to_file_1\", \"path_to_file_1\"]\n",
    "\n",
    "res = t4r.start(list_files, output_path_to_dir, config, False, True)\n",
    "res"
   ]
  }
 ],
 "metadata": {
  "kernelspec": {
   "display_name": "env",
   "language": "python",
   "name": "python3"
  },
  "language_info": {
   "codemirror_mode": {
    "name": "ipython",
    "version": 3
   },
   "file_extension": ".py",
   "mimetype": "text/x-python",
   "name": "python",
   "nbconvert_exporter": "python",
   "pygments_lexer": "ipython3",
   "version": "3.10.13"
  }
 },
 "nbformat": 4,
 "nbformat_minor": 2
}
